{
 "cells": [
  {
   "cell_type": "markdown",
   "metadata": {},
   "source": [
    "There are two sorted arrays nums1 and nums2 of size m and n respectively.\n",
    "\n",
    "Find the median of the two sorted arrays. The overall run time complexity should be O(log (m+n)).\n",
    "\n",
    "Example 1:\n",
    "<code>\n",
    "nums1 = [1, 3]\n",
    "nums2 = [2]\n",
    "</code>\n",
    "\n",
    "The median is 2.0\n",
    "\n",
    "Example 2:\n",
    "<code>\n",
    "nums1 = [1, 2]\n",
    "nums2 = [3, 4]\n",
    "</code>\n",
    "\n",
    "The median is (2 + 3)/2 = 2.5"
   ]
  },
  {
   "cell_type": "code",
   "execution_count": 61,
   "metadata": {},
   "outputs": [],
   "source": [
    "# start with brute force. merge the two sorted arrays, and then find the middle element, or average of \n",
    "# the middle elements if the merged length is even.\n",
    "def findMedianSortedArraysBruteForce(nums1, nums2):\n",
    "    nums1Index = 0\n",
    "    nums2Index = 0\n",
    "    nums1Length = len(nums1)\n",
    "    nums2Length = len(nums2)\n",
    "    merged = []\n",
    "    \n",
    "    while (nums1Index < nums1Length and nums2Index < nums2Length):\n",
    "        if nums1[nums1Index] < nums2[nums2Index]:\n",
    "            merged.append(nums1[nums1Index])\n",
    "            nums1Index += 1\n",
    "        elif nums1[nums1Index] > nums2[nums2Index]:\n",
    "            merged.append(nums2[nums2Index])\n",
    "            nums2Index += 1\n",
    "        else:\n",
    "            merged.append(nums1[nums1Index])\n",
    "            merged.append(nums2[nums2Index])\n",
    "            nums1Index += 1\n",
    "            nums2Index += 1\n",
    "    \n",
    "    if nums1Index != nums1Length - 1:\n",
    "        for i in nums1[nums1Index:nums1Length]:\n",
    "            merged.append(i)\n",
    "    if nums2Index != nums2Length - 1:\n",
    "        for i in nums2[nums2Index:nums2Length]:\n",
    "            merged.append(i)\n",
    "    \n",
    "    if len(merged) % 2 != 0:\n",
    "        return merged[(len(merged) - 1) / 2.0]\n",
    "    else:\n",
    "        median1 = merged[(len(merged) - 1) / 2]\n",
    "        median2 = merged[(len(merged) / 2)]\n",
    "    \n",
    "        return (median1 + median2) / 2.0"
   ]
  },
  {
   "cell_type": "code",
   "execution_count": 62,
   "metadata": {},
   "outputs": [
    {
     "name": "stdout",
     "output_type": "stream",
     "text": [
      "2.5\n"
     ]
    }
   ],
   "source": [
    "print findMedianSortedArraysBruteForce([1,2], [3,4])"
   ]
  },
  {
   "cell_type": "code",
   "execution_count": 81,
   "metadata": {},
   "outputs": [],
   "source": [
    "# the fact that both arrays are sorted and the runtime is O(lg m+n) implies that i need to use binary search.\n",
    "# but how do you do binary search across two arrays? \n",
    "def findMedianSortedArrays(nums1, nums2):\n",
    "    if (len(nums1) > len(nums2)):\n",
    "        return findMedianSortedArrays(nums2, nums1)\n",
    "    \n",
    "    len1, len2 = len(nums1), len(nums2)\n",
    "    lo, hi = 0, len1\n",
    "    \n",
    "    while lo <= hi:\n",
    "        # partition nums1 initially by taking middle element\n",
    "        pN1 = (lo + hi) / 2\n",
    "        # partition nums2 by taking overall length of array - partition nums1\n",
    "        # this ensure equal numbers of elements on left and right sides of both arrays\n",
    "        pN2 = (len1 + len2 + 1) / 2 - pN1\n",
    "\n",
    "        # boundary cases for right partition; if right partition has no elements, make it +inf\n",
    "        pN1MinRight = float(\"inf\") if pN1 == len1 else nums1[pN1]\n",
    "        # if left partition has 0 elements, make it -inf\n",
    "        pN1MaxLeft =  float(\"-inf\") if pN1 == 0 else nums1[pN1 - 1]\n",
    "        \n",
    "        # repeat for nums2 array\n",
    "        pN2MinRight = float(\"-inf\") if pN2 == len2 else nums2[pN2]\n",
    "        pN2MaxLeft = float(\"inf\") if pN2 == 0 else nums2[pN2 - 1]\n",
    "        \n",
    "        # found the correct partition\n",
    "        if pN1MaxLeft <= pN2MinRight and pN2MaxLeft <= pN1MinRight:\n",
    "            # even numbered array\n",
    "            if (len1 + len2) % 2 == 0:\n",
    "                # max of LEFT partition\n",
    "                maxes = max(pN1MaxLeft, pN2MaxLeft)\n",
    "                # min of RIGHT partition\n",
    "                mins = min(pN1MinRight, pN2MinRight)\n",
    "                return (maxes + mins) / 2.0\n",
    "            else:\n",
    "                return float(max(pN1MaxLeft, pN2MaxLeft))\n",
    "        # partition was too big. shift partition to the left by 1\n",
    "        elif pN1MaxLeft > pN2MinRight:\n",
    "            hi = pN1 - 1\n",
    "        # partition was too small. shift partition to right by 1\n",
    "        elif pN2MaxLeft > pN1MinRight:\n",
    "            lo = pN1 + 1"
   ]
  },
  {
   "cell_type": "code",
   "execution_count": 80,
   "metadata": {},
   "outputs": [
    {
     "name": "stdout",
     "output_type": "stream",
     "text": [
      "12.5\n"
     ]
    }
   ],
   "source": [
    "print findMedianSortedArrays([1,2,5], [3,4,20,80,40,40,40])"
   ]
  }
 ],
 "metadata": {
  "kernelspec": {
   "display_name": "Python 2",
   "language": "python",
   "name": "python2"
  },
  "language_info": {
   "codemirror_mode": {
    "name": "ipython",
    "version": 2
   },
   "file_extension": ".py",
   "mimetype": "text/x-python",
   "name": "python",
   "nbconvert_exporter": "python",
   "pygments_lexer": "ipython2",
   "version": "2.7.15"
  }
 },
 "nbformat": 4,
 "nbformat_minor": 2
}
