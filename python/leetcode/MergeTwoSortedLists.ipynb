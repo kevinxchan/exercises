{
 "cells": [
  {
   "cell_type": "markdown",
   "metadata": {},
   "source": [
    "Merge two sorted linked lists and return it as a new list. The new list should be made by splicing together the nodes of the first two lists.\n",
    "\n",
    "Example:\n",
    "\n",
    "Input: 1->2->4, 1->3->4\n",
    "Output: 1->1->2->3->4->4"
   ]
  },
  {
   "cell_type": "code",
   "execution_count": 2,
   "metadata": {},
   "outputs": [],
   "source": [
    "class ListNode:\n",
    "    def __init__(self, x):\n",
    "        self.val = x\n",
    "        self.next = None"
   ]
  },
  {
   "cell_type": "code",
   "execution_count": 4,
   "metadata": {},
   "outputs": [],
   "source": [
    "def printList(l):\n",
    "    tmp = l\n",
    "    while tmp != None:\n",
    "        print tmp.val\n",
    "        tmp = tmp.next"
   ]
  },
  {
   "cell_type": "code",
   "execution_count": 31,
   "metadata": {},
   "outputs": [],
   "source": [
    "def mergeTwoLists(l1, l2):\n",
    "    if l1 == None and l2 == None:\n",
    "        return None\n",
    "    p1 = l1\n",
    "    p2 = l2\n",
    "    ret = None\n",
    "    if p1.val > p2.val:\n",
    "        ret = ListNode(p2.val)\n",
    "        p2 = p2.next\n",
    "    else:\n",
    "        ret = ListNode(p1.val)\n",
    "        p1 = p1.next\n",
    "        \n",
    "    ####################\n",
    "    # THE RETURN VALUE #\n",
    "    ####################\n",
    "    head = ret\n",
    "    \n",
    "    while p1 != None and p2 != None:\n",
    "        if p1.val > p2.val:\n",
    "            ret.next = ListNode(p2.val)\n",
    "            p2 = p2.next\n",
    "        else:\n",
    "            ret.next = ListNode(p1.val)\n",
    "            p1 = p1.next\n",
    "        ret = ret.next\n",
    "    if p1 != None:\n",
    "        while p1 != None:\n",
    "            ret.next = ListNode(p1.val)\n",
    "            p1 = p1.next\n",
    "            ret = ret.next\n",
    "    if p2 != None:\n",
    "        while p2 != None:\n",
    "            ret.next = ListNode(p2.val)\n",
    "            p2 = p2.next\n",
    "            ret = ret.next\n",
    "    return head"
   ]
  },
  {
   "cell_type": "code",
   "execution_count": 32,
   "metadata": {},
   "outputs": [
    {
     "name": "stdout",
     "output_type": "stream",
     "text": [
      "1\n",
      "2\n",
      "4\n",
      "1\n",
      "3\n",
      "4\n",
      "5\n"
     ]
    }
   ],
   "source": [
    "l1 = ListNode(1)\n",
    "l1.next = ListNode(2)\n",
    "l1.next.next = ListNode(4)\n",
    "printList(l1)\n",
    "\n",
    "l2 = ListNode(1)\n",
    "l2.next = ListNode(3)\n",
    "l2.next.next = ListNode(4)\n",
    "l2.next.next.next = ListNode(5)\n",
    "printList(l2)"
   ]
  },
  {
   "cell_type": "code",
   "execution_count": 33,
   "metadata": {},
   "outputs": [
    {
     "name": "stdout",
     "output_type": "stream",
     "text": [
      "1\n",
      "1\n",
      "2\n",
      "3\n",
      "4\n",
      "4\n",
      "5\n"
     ]
    }
   ],
   "source": [
    "merged = mergeTwoLists(l1, l2)\n",
    "printList(merged)"
   ]
  }
 ],
 "metadata": {
  "kernelspec": {
   "display_name": "Python 2",
   "language": "python",
   "name": "python2"
  },
  "language_info": {
   "codemirror_mode": {
    "name": "ipython",
    "version": 2
   },
   "file_extension": ".py",
   "mimetype": "text/x-python",
   "name": "python",
   "nbconvert_exporter": "python",
   "pygments_lexer": "ipython2",
   "version": "2.7.15"
  }
 },
 "nbformat": 4,
 "nbformat_minor": 2
}
