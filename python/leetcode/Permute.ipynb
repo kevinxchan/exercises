{
 "cells": [
  {
   "cell_type": "code",
   "execution_count": 48,
   "metadata": {},
   "outputs": [],
   "source": [
    "def permute(nums):\n",
    "    if nums is None:\n",
    "        return [[]]\n",
    "    n = len(nums)\n",
    "    if n <= 1:\n",
    "        return [nums]\n",
    "    dp = [[]]\n",
    "    for num in nums:\n",
    "        tmp = []\n",
    "        for p in dp:\n",
    "            for i in xrange(len(p) + 1):\n",
    "                tmp.append(p[:i] + [num] + p[i:])\n",
    "        dp = tmp\n",
    "    return dp"
   ]
  },
  {
   "cell_type": "code",
   "execution_count": 49,
   "metadata": {},
   "outputs": [
    {
     "name": "stdout",
     "output_type": "stream",
     "text": [
      "[['3', '2', '1'], ['2', '3', '1'], ['2', '1', '3'], ['3', '1', '2'], ['1', '3', '2'], ['1', '2', '3']]\n"
     ]
    }
   ],
   "source": [
    "print permute(['1', '2', '3'])"
   ]
  },
  {
   "cell_type": "code",
   "execution_count": null,
   "metadata": {},
   "outputs": [],
   "source": []
  }
 ],
 "metadata": {
  "kernelspec": {
   "display_name": "Python 2",
   "language": "python",
   "name": "python2"
  },
  "language_info": {
   "codemirror_mode": {
    "name": "ipython",
    "version": 2
   },
   "file_extension": ".py",
   "mimetype": "text/x-python",
   "name": "python",
   "nbconvert_exporter": "python",
   "pygments_lexer": "ipython2",
   "version": "2.7.15"
  }
 },
 "nbformat": 4,
 "nbformat_minor": 2
}
