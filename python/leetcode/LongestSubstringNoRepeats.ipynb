{
 "cells": [
  {
   "cell_type": "markdown",
   "metadata": {},
   "source": [
    "Given a string, find the length of the longest substring without repeating characters.\n",
    "\n",
    "Examples:\n",
    "\n",
    "Given \"abcabcbb\", the answer is \"abc\", which the length is 3.\n",
    "\n",
    "Given \"bbbbb\", the answer is \"b\", with the length of 1.\n",
    "\n",
    "Given \"pwwkew\", the answer is \"wke\", with the length of 3. Note that the answer must be a substring, \"pwke\" is a subsequence and not a substring."
   ]
  },
  {
   "cell_type": "code",
   "execution_count": 20,
   "metadata": {},
   "outputs": [],
   "source": [
    "# Start with brute force. a brute force solution would iterate through each letter of the string, and then compare \n",
    "# the current letter to the ones seen previously. if any of those letters match, i.e. they repeat, then the substring \n",
    "# should end there. \n",
    "def longestBruteForce(string):\n",
    "    copy = string\n",
    "    currentSubstr = []\n",
    "    currentSubstr.append(copy[0]) # the first letter will always be different\n",
    "    currentLen = len(currentSubstr)\n",
    "    prevLen = len(currentSubstr)\n",
    "    \n",
    "    for i in copy[1:len(copy)]:\n",
    "        # case 1: i is not found in the current substring. then\n",
    "        # we simply add it to the list\n",
    "        if i not in currentSubstr:\n",
    "            currentSubstr.append(i)\n",
    "            currentLen = len(currentSubstr)\n",
    "        # case 2: i is found in the current substring\n",
    "        else:\n",
    "            prevLen = len(currentSubstr)\n",
    "            currentSubstr = []\n",
    "            currentSubstr.append(i)\n",
    "            currentLen = len(currentSubstr)\n",
    "        maxLen = max(prevLen, currentLen)\n",
    "    return maxLen\n",
    "        "
   ]
  },
  {
   "cell_type": "markdown",
   "metadata": {},
   "source": [
    "Note that the above solution works for the given examples, but won't work for a string like \"pepwkzjn\". This is because the algorithm as it is currently won't start the next \"longest\" substring anywhere <b>IN</b> the previous substring, but rather start at the next matching letter. For example:"
   ]
  },
  {
   "cell_type": "code",
   "execution_count": 21,
   "metadata": {
    "scrolled": true
   },
   "outputs": [
    {
     "name": "stdout",
     "output_type": "stream",
     "text": [
      "6\n"
     ]
    }
   ],
   "source": [
    "print longestBruteForce(\"pepwkzjn\")"
   ]
  },
  {
   "cell_type": "markdown",
   "metadata": {},
   "source": [
    "Which corresponds to \"pwkzjn\". But the optimal solution is 7, and the string is \"epwkzjn\"."
   ]
  },
  {
   "cell_type": "code",
   "execution_count": 22,
   "metadata": {},
   "outputs": [],
   "source": [
    "# :(\n",
    "# https://leetcode.com/articles/longest-substring-without-repeating-characters/"
   ]
  }
 ],
 "metadata": {
  "kernelspec": {
   "display_name": "Python 2",
   "language": "python",
   "name": "python2"
  },
  "language_info": {
   "codemirror_mode": {
    "name": "ipython",
    "version": 2
   },
   "file_extension": ".py",
   "mimetype": "text/x-python",
   "name": "python",
   "nbconvert_exporter": "python",
   "pygments_lexer": "ipython2",
   "version": "2.7.15"
  }
 },
 "nbformat": 4,
 "nbformat_minor": 2
}
