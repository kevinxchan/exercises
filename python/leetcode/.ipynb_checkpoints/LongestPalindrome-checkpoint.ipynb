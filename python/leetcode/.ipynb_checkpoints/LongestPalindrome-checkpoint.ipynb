{
 "cells": [
  {
   "cell_type": "markdown",
   "metadata": {},
   "source": [
    "Given a string s, find the longest palindromic substring in s. You may assume that the maximum length of s is 1000.\n",
    "\n",
    "Example 1:\n",
    "\n",
    "<code>\n",
    "Input: \"babad\"\n",
    "Output: \"bab\"\n",
    "</code>\n",
    "\n",
    "Note: \"aba\" is also a valid answer.\n",
    "\n",
    "Example 2:\n",
    "\n",
    "<code>\n",
    "Input: \"cbbd\"\n",
    "Output: \"bb\"\n",
    "</code>"
   ]
  },
  {
   "cell_type": "code",
   "execution_count": 6,
   "metadata": {},
   "outputs": [],
   "source": [
    "def getCharAtIndex(string, index):\n",
    "    if index < 0 or index >= len(string):\n",
    "        return \"\"\n",
    "    else:\n",
    "        return string[index] "
   ]
  },
  {
   "cell_type": "code",
   "execution_count": 73,
   "metadata": {},
   "outputs": [],
   "source": [
    "def longestPalindrome(s):\n",
    "    longest = \"\"\n",
    "    n = len(s)\n",
    "    idx, idxRight, idxLeft = 0, 0, 0\n",
    "    subStr = \"\"\n",
    "    restart = True\n",
    "    while idx < n: \n",
    "        if restart:\n",
    "            idxRight = idx + 1\n",
    "            idxLeft = idx - 1\n",
    "        \n",
    "        curr = s[idx]\n",
    "        currRight = getCharAtIndex(s, idxRight)\n",
    "        currLeft = getCharAtIndex(s, idxLeft)\n",
    "        \n",
    "        if currRight == currLeft:\n",
    "            subStr = s[idxLeft:idxRight + 1] # doesn't include :RIGHT index\n",
    "            if idxRight < n and idxLeft > 0:\n",
    "                idxRight += 1\n",
    "                idxLeft -= 1\n",
    "                restart = False\n",
    "                \n",
    "            else:\n",
    "                idx += 1\n",
    "                restart = True\n",
    "        else:\n",
    "            idx += 1\n",
    "            restart = True\n",
    "        \n",
    "        if len(longest) < len(subStr):\n",
    "            longest = subStr\n",
    "    return longest"
   ]
  },
  {
   "cell_type": "code",
   "execution_count": 74,
   "metadata": {},
   "outputs": [
    {
     "name": "stdout",
     "output_type": "stream",
     "text": [
      "\n"
     ]
    }
   ],
   "source": [
    "print longestPalindrome(\"cbbd\")"
   ]
  },
  {
   "cell_type": "code",
   "execution_count": 15,
   "metadata": {},
   "outputs": [],
   "source": [
    "def longestPalindromeDP(string):\n",
    "    if string == None:\n",
    "        return \"\"\n",
    "    n = len(string)\n",
    "    begin, end = 0, 0\n",
    "    \n",
    "    table = [[False for x in range(n)] for y in range(n)]\n",
    "    for j in range(1, n):\n",
    "        for i in range(j):\n",
    "            isInnerPalindrome = table[i + 1][j - 1] or j - i <= 2\n",
    "            if (string[i] == string[j] and isInnerPalindrome):\n",
    "                table[i][j] = True\n",
    "                if (end - begin) < (j - i):\n",
    "                    begin = i\n",
    "                    end = j\n",
    "    return string[begin:end + 1]\n",
    "                "
   ]
  },
  {
   "cell_type": "code",
   "execution_count": 18,
   "metadata": {},
   "outputs": [
    {
     "name": "stdout",
     "output_type": "stream",
     "text": [
      "[[False, False], [False, False]]\n"
     ]
    },
    {
     "data": {
      "text/plain": [
       "'a'"
      ]
     },
     "execution_count": 18,
     "metadata": {},
     "output_type": "execute_result"
    }
   ],
   "source": [
    "longestPalindromeDP(\"ab\")"
   ]
  },
  {
   "cell_type": "code",
   "execution_count": null,
   "metadata": {},
   "outputs": [],
   "source": []
  }
 ],
 "metadata": {
  "kernelspec": {
   "display_name": "Python 2",
   "language": "python",
   "name": "python2"
  },
  "language_info": {
   "codemirror_mode": {
    "name": "ipython",
    "version": 2
   },
   "file_extension": ".py",
   "mimetype": "text/x-python",
   "name": "python",
   "nbconvert_exporter": "python",
   "pygments_lexer": "ipython2",
   "version": "2.7.15"
  }
 },
 "nbformat": 4,
 "nbformat_minor": 2
}
