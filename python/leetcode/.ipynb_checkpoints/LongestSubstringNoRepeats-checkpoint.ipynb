{
 "cells": [
  {
   "cell_type": "markdown",
   "metadata": {},
   "source": [
    "Given a string, find the length of the longest substring without repeating characters.\n",
    "\n",
    "Examples:\n",
    "\n",
    "Given \"abcabcbb\", the answer is \"abc\", which the length is 3.\n",
    "\n",
    "Given \"bbbbb\", the answer is \"b\", with the length of 1.\n",
    "\n",
    "Given \"pwwkew\", the answer is \"wke\", with the length of 3. Note that the answer must be a substring, \"pwke\" is a subsequence and not a substring."
   ]
  },
  {
   "cell_type": "code",
   "execution_count": 20,
   "metadata": {},
   "outputs": [],
   "source": [
    "# Start with brute force. a brute force solution would iterate through each letter of the string, and then compare \n",
    "# the current letter to the ones seen previously. if any of those letters match, i.e. they repeat, then the substring \n",
    "# should end there. \n",
    "def longestBruteForce(string):\n",
    "    copy = string\n",
    "    currentSubstr = []\n",
    "    currentSubstr.append(copy[0]) # the first letter will always be different\n",
    "    currentLen = len(currentSubstr)\n",
    "    prevLen = len(currentSubstr)\n",
    "    \n",
    "    for i in copy[1:len(copy)]:\n",
    "        # case 1: i is not found in the current substring. then\n",
    "        # we simply add it to the list\n",
    "        if i not in currentSubstr:\n",
    "            currentSubstr.append(i)\n",
    "            currentLen = len(currentSubstr)\n",
    "        # case 2: i is found in the current substring\n",
    "        else:\n",
    "            prevLen = len(currentSubstr)\n",
    "            currentSubstr = []\n",
    "            currentSubstr.append(i)\n",
    "            currentLen = len(currentSubstr)\n",
    "        maxLen = max(prevLen, currentLen)\n",
    "    return maxLen\n",
    "        "
   ]
  },
  {
   "cell_type": "markdown",
   "metadata": {},
   "source": [
    "Note that the above solution works for the given examples, but won't work for a string like \"pepwkzjn\". This is because the algorithm as it is currently won't start the next \"longest\" substring anywhere <b>IN</b> the previous substring, but rather start at the next matching letter. For example:"
   ]
  },
  {
   "cell_type": "code",
   "execution_count": 21,
   "metadata": {
    "scrolled": true
   },
   "outputs": [
    {
     "name": "stdout",
     "output_type": "stream",
     "text": [
      "6\n"
     ]
    }
   ],
   "source": [
    "print longestBruteForce(\"pepwkzjn\")"
   ]
  },
  {
   "cell_type": "markdown",
   "metadata": {},
   "source": [
    "Which corresponds to \"pwkzjn\". But the optimal solution is 7, and the string is \"epwkzjn\"."
   ]
  },
  {
   "cell_type": "code",
   "execution_count": 8,
   "metadata": {},
   "outputs": [],
   "source": [
    "def longestSubstring(string):\n",
    "    if string == None:\n",
    "        return \"\"\n",
    "    begin = 0\n",
    "    maxLen = 0\n",
    "    n = len(string)\n",
    "    table = {} # dict with key value pairs \"string\": \"position\" in the given string\n",
    "    \n",
    "    for i in range(n):\n",
    "        # lookup position in table\n",
    "        j = table.get(string[i])\n",
    "        s = string[i]\n",
    "        # if this string has been seen before (j won't be null)\n",
    "        # in some other place in the string (j >= begin) \n",
    "        if j is not None and j >= begin:\n",
    "            # get current length of substring\n",
    "            length = i - begin\n",
    "            # set new index to position following previous matching string\n",
    "            begin = j + 1\n",
    "            maxLen = max(length, maxLen)\n",
    "        # update dict with new index\n",
    "        table[s] = i\n",
    "    maxLen = max(n - begin, maxLen)\n",
    "    return maxLen"
   ]
  },
  {
   "cell_type": "code",
   "execution_count": 9,
   "metadata": {},
   "outputs": [
    {
     "name": "stdout",
     "output_type": "stream",
     "text": [
      "3\n",
      "7\n"
     ]
    }
   ],
   "source": [
    "print longestSubstring(\"abcabcbb\")\n",
    "print longestSubstring(\"pepwkzjn\")"
   ]
  }
 ],
 "metadata": {
  "kernelspec": {
   "display_name": "Python 2",
   "language": "python",
   "name": "python2"
  },
  "language_info": {
   "codemirror_mode": {
    "name": "ipython",
    "version": 2
   },
   "file_extension": ".py",
   "mimetype": "text/x-python",
   "name": "python",
   "nbconvert_exporter": "python",
   "pygments_lexer": "ipython2",
   "version": "2.7.15"
  }
 },
 "nbformat": 4,
 "nbformat_minor": 2
}
