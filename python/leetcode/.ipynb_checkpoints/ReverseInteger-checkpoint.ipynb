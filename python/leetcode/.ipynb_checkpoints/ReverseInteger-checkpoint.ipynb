{
 "cells": [
  {
   "cell_type": "markdown",
   "metadata": {},
   "source": [
    "Given a 32-bit signed integer, reverse digits of an integer.\n",
    "\n",
    "Example 1:\n",
    "<code>\n",
    "Input: 123\n",
    "Output: 321\n",
    "</code>\n",
    "Example 2:\n",
    "<code>\n",
    "Input: -123\n",
    "Output: -321\n",
    "</code>\n",
    "Example 3:\n",
    "<code>\n",
    "Input: 120\n",
    "Output: 21\n",
    "</code>\n",
    "Note:\n",
    "Assume we are dealing with an environment which could only store integers within the 32-bit signed integer range: [−231,  231 − 1]. For the purpose of this problem, assume that your function returns 0 when the reversed integer overflows."
   ]
  },
  {
   "cell_type": "code",
   "execution_count": 67,
   "metadata": {},
   "outputs": [],
   "source": [
    "def removeLeadingZeroes(l):\n",
    "    for i in range(len(l)):\n",
    "        if l[i] != \"0\":\n",
    "            return l[i:]"
   ]
  },
  {
   "cell_type": "code",
   "execution_count": 68,
   "metadata": {},
   "outputs": [],
   "source": [
    "def collapseList(l):\n",
    "    ret = \"\"\n",
    "    for i in l:\n",
    "        ret += i\n",
    "    return ret"
   ]
  },
  {
   "cell_type": "code",
   "execution_count": 113,
   "metadata": {},
   "outputs": [],
   "source": [
    "def reverseInteger(num):\n",
    "    if num == None:\n",
    "        return 0\n",
    "    isNegative = num < 0\n",
    "    strNum = str(num)[1:] if isNegative else str(num)\n",
    "    n = len(strNum) - 1\n",
    "    \n",
    "    reverse = list(reversed(strNum))\n",
    "    # alternatively,\n",
    "#     reverse = []\n",
    "#     for i in range(n, -1, -1):\n",
    "#         reverse.append(strNum[i])\n",
    "    reverse = removeLeadingZeroes(reverse)\n",
    "    if isNegative:\n",
    "        reverse.insert(0, \"-\")\n",
    "\n",
    "    ret = \"\".join(reverse)\n",
    "    # alternatively,\n",
    "#     ret = collapseList(reverse)\n",
    "    return int(ret)"
   ]
  },
  {
   "cell_type": "code",
   "execution_count": 114,
   "metadata": {},
   "outputs": [
    {
     "name": "stdout",
     "output_type": "stream",
     "text": [
      "4321\n"
     ]
    }
   ],
   "source": [
    "print reverseInteger(1234)"
   ]
  },
  {
   "cell_type": "code",
   "execution_count": 115,
   "metadata": {},
   "outputs": [
    {
     "name": "stdout",
     "output_type": "stream",
     "text": [
      "-321\n"
     ]
    }
   ],
   "source": [
    "print reverseInteger(-123)"
   ]
  },
  {
   "cell_type": "code",
   "execution_count": 116,
   "metadata": {},
   "outputs": [
    {
     "name": "stdout",
     "output_type": "stream",
     "text": [
      "21\n"
     ]
    }
   ],
   "source": [
    "print reverseInteger(120)"
   ]
  },
  {
   "cell_type": "code",
   "execution_count": null,
   "metadata": {},
   "outputs": [],
   "source": []
  }
 ],
 "metadata": {
  "kernelspec": {
   "display_name": "Python 2",
   "language": "python",
   "name": "python2"
  },
  "language_info": {
   "codemirror_mode": {
    "name": "ipython",
    "version": 2
   },
   "file_extension": ".py",
   "mimetype": "text/x-python",
   "name": "python",
   "nbconvert_exporter": "python",
   "pygments_lexer": "ipython2",
   "version": "2.7.15"
  }
 },
 "nbformat": 4,
 "nbformat_minor": 2
}
