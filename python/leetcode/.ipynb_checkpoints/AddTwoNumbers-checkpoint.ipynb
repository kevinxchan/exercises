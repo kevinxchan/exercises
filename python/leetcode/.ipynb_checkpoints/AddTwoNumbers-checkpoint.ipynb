{
 "cells": [
  {
   "cell_type": "markdown",
   "metadata": {},
   "source": [
    "You are given two non-empty linked lists representing two non-negative integers. The digits are stored in reverse order and each of their nodes contain a single digit. Add the two numbers and return it as a linked list.\n",
    "\n",
    "You may assume the two numbers do not contain any leading zero, except the number 0 itself.\n",
    "\n",
    "Example\n",
    "\n",
    "Input: (2 -> 4 -> 3) + (5 -> 6 -> 4)\n",
    "\n",
    "Output: 7 -> 0 -> 8\n",
    "\n",
    "Explanation: 342 + 465 = 807."
   ]
  },
  {
   "cell_type": "code",
   "execution_count": 2,
   "metadata": {},
   "outputs": [],
   "source": [
    "# simple implementation of linked list\n",
    "class ListNode:\n",
    "    def __init__(self, x):\n",
    "        self.val = x\n",
    "        self.next = None"
   ]
  },
  {
   "cell_type": "code",
   "execution_count": 21,
   "metadata": {},
   "outputs": [],
   "source": [
    "# for verifying answers\n",
    "def printLinkedList(l1):\n",
    "    ret = []\n",
    "    tmp = l1\n",
    "    while tmp != None:\n",
    "        ret.append(tmp.val)\n",
    "        tmp = tmp.next\n",
    "    print ret"
   ]
  },
  {
   "cell_type": "code",
   "execution_count": 30,
   "metadata": {},
   "outputs": [],
   "source": [
    "# if any number is greater than 10, then carry over the 1 to the next node, and keep the remaining value\n",
    "def checkCarryOver(node):\n",
    "    if node.val >= 10:\n",
    "        node.val -= 10\n",
    "        return 1\n",
    "    else:\n",
    "        return 0"
   ]
  },
  {
   "cell_type": "code",
   "execution_count": 49,
   "metadata": {},
   "outputs": [],
   "source": [
    "# this implementation assumes that the lists are of equal length\n",
    "def addTwoNumbers(l1, l2):\n",
    "    node1 = l1\n",
    "    node2 = l2\n",
    "    \n",
    "    carryOver = 0\n",
    "    firstNode = None\n",
    "    first = True\n",
    "    afterNode = None\n",
    "    \n",
    "    while node1 != None and node2 != None:\n",
    "        if first:\n",
    "            # starting node. here, we must first initialize the value of the head node\n",
    "            # before having a \"next\" value we can work on. we start with something like this:\n",
    "            # []\n",
    "            # and we need to fill in this value.\n",
    "            firstNode = ListNode(node1.val + node2.val)\n",
    "            carryOver = checkCarryOver(firstNode)\n",
    "            head = firstNode\n",
    "            first = False\n",
    "        else:\n",
    "            # once we have a value in the first node, it looks like this:\n",
    "            # [7]->\n",
    "            # therefore, by using firstNode.next, the subsequent trailing nodes will be filled in\n",
    "            firstNode.next = ListNode(node1.val + node2.val + carryOver)\n",
    "            carryOver = checkCarryOver(firstNode.next)\n",
    "            # move the pointer one over and set the previous \"next\" node as the current one\n",
    "            firstNode = firstNode.next\n",
    "        node1 = node1.next\n",
    "        node2 = node2.next\n",
    "    return head"
   ]
  },
  {
   "cell_type": "code",
   "execution_count": 53,
   "metadata": {},
   "outputs": [
    {
     "name": "stdout",
     "output_type": "stream",
     "text": [
      "[7, 0, 8]\n"
     ]
    }
   ],
   "source": [
    "startL1 = ListNode(2)\n",
    "middleL1 = ListNode(4)\n",
    "endL1 = ListNode(3)\n",
    "\n",
    "startL1.next = middleL1\n",
    "middleL1.next = endL1\n",
    "\n",
    "startL2 = ListNode(5)\n",
    "middleL2 = ListNode(6)\n",
    "endL2 = ListNode(4)\n",
    "\n",
    "startL2.next = middleL2\n",
    "middleL2.next = endL2\n",
    "\n",
    "printLinkedList(addTwoNumbers(startL1, startL2))"
   ]
  },
  {
   "cell_type": "code",
   "execution_count": 65,
   "metadata": {},
   "outputs": [],
   "source": [
    "# what if the lists are of unequal length? \n",
    "# we could do a simple \"hacky\" check to continue linking nodes from the longer list, without any further addition\n",
    "def addTwoNumbersUnequal(l1, l2):\n",
    "    node1 = l1\n",
    "    node2 = l2\n",
    "    \n",
    "    carryOver = 0\n",
    "    firstNode = None\n",
    "    first = True\n",
    "    afterNode = None\n",
    "    \n",
    "    # change from AND to OR, i.e. take the max length of the lists\n",
    "    while node1 != None or node2 != None:\n",
    "        if node1 != None and node2 != None:\n",
    "            if first:\n",
    "                # starting node. here, we must first initialize the value of the head node\n",
    "                # before having a \"next\" value we can work on. we start with something like this:\n",
    "                # []\n",
    "                # and we need to fill in this value.\n",
    "                firstNode = ListNode(node1.val + node2.val)\n",
    "                carryOver = checkCarryOver(firstNode)\n",
    "                head = firstNode\n",
    "                first = False\n",
    "            else:\n",
    "                # once we have a value in the first node, it looks like this:\n",
    "                # [7]->\n",
    "                # therefore, by using firstNode.next, the subsequent trailing nodes will be filled in\n",
    "                firstNode.next = ListNode(node1.val + node2.val + carryOver)\n",
    "                carryOver = checkCarryOver(firstNode.next)\n",
    "                # move the pointer one over and set the previous \"next\" node as the current one\n",
    "                firstNode = firstNode.next\n",
    "            node1 = node1.next\n",
    "            node2 = node2.next\n",
    "        elif node1 == None and node2 != None:\n",
    "            firstNode.next = ListNode(node2.val)\n",
    "            firstNode = firstNode.next\n",
    "            node2 = node2.next\n",
    "        elif node1 != None and node2 == None:\n",
    "            firstNode.next = ListNode(node1.val)\n",
    "            firstNode = firstNode.next\n",
    "            node1 = node1.next\n",
    "    return head"
   ]
  },
  {
   "cell_type": "code",
   "execution_count": 67,
   "metadata": {},
   "outputs": [
    {
     "name": "stdout",
     "output_type": "stream",
     "text": [
      "[7, 0, 8, 9]\n"
     ]
    }
   ],
   "source": [
    "startL1 = ListNode(2)\n",
    "middleL1 = ListNode(4)\n",
    "endL1 = ListNode(3)\n",
    "\n",
    "startL1.next = middleL1\n",
    "middleL1.next = endL1\n",
    "\n",
    "startL2 = ListNode(5)\n",
    "middleL2 = ListNode(6)\n",
    "anotherMiddleL2 = ListNode(4)\n",
    "endL2 = ListNode(9)\n",
    "\n",
    "startL2.next = middleL2\n",
    "middleL2.next = anotherMiddleL2\n",
    "anotherMiddleL2.next = endL2\n",
    "\n",
    "# (2 -> 4-> 3) + (5 -> 6 -> 4 -> 9)\n",
    "printLinkedList(addTwoNumbersUnequal(startL1, startL2))"
   ]
  },
  {
   "cell_type": "code",
   "execution_count": null,
   "metadata": {},
   "outputs": [],
   "source": []
  }
 ],
 "metadata": {
  "kernelspec": {
   "display_name": "Python 2",
   "language": "python",
   "name": "python2"
  },
  "language_info": {
   "codemirror_mode": {
    "name": "ipython",
    "version": 2
   },
   "file_extension": ".py",
   "mimetype": "text/x-python",
   "name": "python",
   "nbconvert_exporter": "python",
   "pygments_lexer": "ipython2",
   "version": "2.7.15"
  }
 },
 "nbformat": 4,
 "nbformat_minor": 2
}
