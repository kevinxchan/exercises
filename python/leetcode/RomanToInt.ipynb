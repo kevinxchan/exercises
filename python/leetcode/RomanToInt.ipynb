{
 "cells": [
  {
   "cell_type": "markdown",
   "metadata": {},
   "source": [
    "Roman numerals are represented by seven different symbols: I, V, X, L, C, D and M.\n",
    "\n",
    "Symbol       Value\n",
    "I             1\n",
    "V             5\n",
    "X             10\n",
    "L             50\n",
    "C             100\n",
    "D             500\n",
    "M             1000\n",
    "For example, two is written as II in Roman numeral, just two one's added together. Twelve is written as, XII, which is simply X + II. The number twenty seven is written as XXVII, which is XX + V + II.\n",
    "\n",
    "Roman numerals are usually written largest to smallest from left to right. However, the numeral for four is not IIII. Instead, the number four is written as IV. Because the one is before the five we subtract it making four. The same principle applies to the number nine, which is written as IX. There are six instances where subtraction is used:\n",
    "\n",
    "I can be placed before V (5) and X (10) to make 4 and 9. \n",
    "X can be placed before L (50) and C (100) to make 40 and 90. \n",
    "C can be placed before D (500) and M (1000) to make 400 and 900.\n",
    "Given a roman numeral, convert it to an integer. Input is guaranteed to be within the range from 1 to 3999.\n",
    "\n",
    "Example 1:\n",
    "\n",
    "Input: \"III\"\n",
    "Output: 3\n",
    "Example 2:\n",
    "\n",
    "Input: \"IV\"\n",
    "Output: 4\n",
    "Example 3:\n",
    "\n",
    "Input: \"IX\"\n",
    "Output: 9\n",
    "Example 4:\n",
    "\n",
    "Input: \"LVIII\"\n",
    "Output: 58\n",
    "Explanation: C = 100, L = 50, XXX = 30 and III = 3.\n",
    "Example 5:\n",
    "\n",
    "Input: \"MCMXCIV\"\n",
    "Output: 1994\n",
    "Explanation: M = 1000, CM = 900, XC = 90 and IV = 4."
   ]
  },
  {
   "cell_type": "code",
   "execution_count": 6,
   "metadata": {},
   "outputs": [],
   "source": [
    "d = {}\n",
    "d[\"I\"] = 1\n",
    "d[\"V\"] = 5\n",
    "d[\"X\"] = 10\n",
    "d[\"L\"] = 50\n",
    "d[\"C\"] = 100\n",
    "d[\"D\"] = 500\n",
    "d[\"M\"] = 1000\n",
    "\n",
    "def romanToInt(s):\n",
    "    if s == None or type(s) != str:\n",
    "        raise ValueError\n",
    "    if s == \"\":\n",
    "        return 0\n",
    "    \n",
    "    i, ret = 0, 0\n",
    "    n = len(s)\n",
    "    while i < n - 1:\n",
    "        if s[i] == \"I\":\n",
    "            if s[i + 1] == \"V\":\n",
    "                ret += 4\n",
    "                i += 2\n",
    "            elif s[i + 1] == \"X\":\n",
    "                ret += 9\n",
    "                i += 2\n",
    "            else:\n",
    "                ret += d[s[i]]\n",
    "                i += 1\n",
    "        elif s[i] == \"X\":\n",
    "            if s[i + 1] == \"L\":\n",
    "                ret += 40\n",
    "                i += 2\n",
    "            elif s[i + 1] == \"C\":\n",
    "                ret += 90\n",
    "                i += 2\n",
    "            else:\n",
    "                ret += d[s[i]]\n",
    "                i += 1\n",
    "        elif s[i] == \"C\":\n",
    "            if s[i + 1] == \"D\":\n",
    "                ret += 400\n",
    "                i += 2\n",
    "            elif s[i + 1] == \"M\":\n",
    "                ret += 900\n",
    "                i += 2\n",
    "            else:\n",
    "                ret += d[s[i]]\n",
    "                i += 1\n",
    "        else:\n",
    "            ret += d[s[i]]\n",
    "            i += 1\n",
    "    \n",
    "    if i == n - 1:\n",
    "        ret += d[s[i]]\n",
    "    return ret"
   ]
  },
  {
   "cell_type": "code",
   "execution_count": 7,
   "metadata": {},
   "outputs": [
    {
     "name": "stdout",
     "output_type": "stream",
     "text": [
      "3\n"
     ]
    }
   ],
   "source": [
    "print romanToInt(\"III\")"
   ]
  },
  {
   "cell_type": "code",
   "execution_count": 8,
   "metadata": {},
   "outputs": [
    {
     "name": "stdout",
     "output_type": "stream",
     "text": [
      "4\n"
     ]
    }
   ],
   "source": [
    "print romanToInt(\"IV\")"
   ]
  },
  {
   "cell_type": "code",
   "execution_count": 9,
   "metadata": {},
   "outputs": [
    {
     "name": "stdout",
     "output_type": "stream",
     "text": [
      "9\n"
     ]
    }
   ],
   "source": [
    "print romanToInt(\"IX\")"
   ]
  },
  {
   "cell_type": "code",
   "execution_count": 10,
   "metadata": {},
   "outputs": [
    {
     "name": "stdout",
     "output_type": "stream",
     "text": [
      "58\n"
     ]
    }
   ],
   "source": [
    "print romanToInt(\"LVIII\")"
   ]
  },
  {
   "cell_type": "code",
   "execution_count": 11,
   "metadata": {},
   "outputs": [
    {
     "name": "stdout",
     "output_type": "stream",
     "text": [
      "1994\n"
     ]
    }
   ],
   "source": [
    "print romanToInt(\"MCMXCIV\")"
   ]
  }
 ],
 "metadata": {
  "kernelspec": {
   "display_name": "Python 2",
   "language": "python",
   "name": "python2"
  },
  "language_info": {
   "codemirror_mode": {
    "name": "ipython",
    "version": 2
   },
   "file_extension": ".py",
   "mimetype": "text/x-python",
   "name": "python",
   "nbconvert_exporter": "python",
   "pygments_lexer": "ipython2",
   "version": "2.7.15"
  }
 },
 "nbformat": 4,
 "nbformat_minor": 2
}
