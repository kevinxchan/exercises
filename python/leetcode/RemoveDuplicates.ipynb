{
 "cells": [
  {
   "cell_type": "code",
   "execution_count": 12,
   "metadata": {},
   "outputs": [],
   "source": [
    "def removeDuplicates(nums):\n",
    "    if nums == None or len(nums) == 0:\n",
    "        return 0\n",
    "    curr = nums[0]\n",
    "    i = 1\n",
    "    n = len(nums)\n",
    "    while i < n:\n",
    "        if curr == nums[i]:\n",
    "            del nums[i]\n",
    "            i -= 1\n",
    "        else:\n",
    "            curr = nums[i]\n",
    "        i += 1\n",
    "        n = len(nums)\n",
    "    return n"
   ]
  },
  {
   "cell_type": "code",
   "execution_count": 13,
   "metadata": {},
   "outputs": [
    {
     "name": "stdout",
     "output_type": "stream",
     "text": [
      "1\n",
      "2\n",
      "[1, 2]\n"
     ]
    }
   ],
   "source": [
    "nums = [1,1,2]\n",
    "print removeDuplicates(nums)\n",
    "print nums"
   ]
  },
  {
   "cell_type": "code",
   "execution_count": 16,
   "metadata": {},
   "outputs": [
    {
     "name": "stdout",
     "output_type": "stream",
     "text": [
      "5\n",
      "[0, 1, 2, 3, 4]\n"
     ]
    }
   ],
   "source": [
    "foo = [0,0,1,1,1,2,2,3,3,4]\n",
    "print removeDuplicates(foo)\n",
    "print foo"
   ]
  },
  {
   "cell_type": "code",
   "execution_count": 17,
   "metadata": {},
   "outputs": [
    {
     "name": "stdout",
     "output_type": "stream",
     "text": [
      "2\n",
      "[0, 1]\n"
     ]
    }
   ],
   "source": [
    "bar = [0,0,1,1,1]\n",
    "print removeDuplicates(bar)\n",
    "print bar"
   ]
  }
 ],
 "metadata": {
  "kernelspec": {
   "display_name": "Python 2",
   "language": "python",
   "name": "python2"
  },
  "language_info": {
   "codemirror_mode": {
    "name": "ipython",
    "version": 2
   },
   "file_extension": ".py",
   "mimetype": "text/x-python",
   "name": "python",
   "nbconvert_exporter": "python",
   "pygments_lexer": "ipython2",
   "version": "2.7.15"
  }
 },
 "nbformat": 4,
 "nbformat_minor": 2
}
