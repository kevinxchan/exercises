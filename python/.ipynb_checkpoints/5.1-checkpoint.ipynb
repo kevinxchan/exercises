{
 "cells": [
  {
   "cell_type": "markdown",
   "metadata": {},
   "source": [
    "Insertion: You are given two 32-bit numbers, N and M, and two bit positions, i and\n",
    "j. Write a method to insert M into N such that M starts at bit j and ends at bit i. You\n",
    "can assume that the bits j through i have enough space to fit all of M. That is, if\n",
    "M = 10011, you can assume that there are at least 5 bits between j and i. You would not, for\n",
    "example, have j = 3 and i = 2, because M could not fully fit between bit 3 and bit 2.\n",
    "\n",
    "EXAMPLE\n",
    "Input: N = 10000000000, M = 10011, i = 2, j = 6\n",
    "Output: N 10001001100"
   ]
  },
  {
   "cell_type": "code",
   "execution_count": 100,
   "metadata": {},
   "outputs": [],
   "source": [
    "def insertMintoN(N, M, i, j):\n",
    "    allOnes = ~0\n",
    "    maskLeft = allOnes << (j + 1)\n",
    "    maskRight = (1 << i) - 1\n",
    "    mask = maskRight | maskLeft\n",
    "    newM = M << i\n",
    "    N = N & mask\n",
    "    return N | newM"
   ]
  },
  {
   "cell_type": "code",
   "execution_count": 102,
   "metadata": {},
   "outputs": [
    {
     "name": "stdout",
     "output_type": "stream",
     "text": [
      "10001001100\n"
     ]
    }
   ],
   "source": [
    "N = 0b10000000000\n",
    "M = 0b10011\n",
    "i = 2\n",
    "j = 6\n",
    "\n",
    "print \"{0:b}\".format(insertMintoN(N, M, i ,j))"
   ]
  },
  {
   "cell_type": "code",
   "execution_count": null,
   "metadata": {},
   "outputs": [],
   "source": []
  }
 ],
 "metadata": {
  "kernelspec": {
   "display_name": "Python 2",
   "language": "python",
   "name": "python2"
  },
  "language_info": {
   "codemirror_mode": {
    "name": "ipython",
    "version": 2
   },
   "file_extension": ".py",
   "mimetype": "text/x-python",
   "name": "python",
   "nbconvert_exporter": "python",
   "pygments_lexer": "ipython2",
   "version": "2.7.15"
  }
 },
 "nbformat": 4,
 "nbformat_minor": 2
}
